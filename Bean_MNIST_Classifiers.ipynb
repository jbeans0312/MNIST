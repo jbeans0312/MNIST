{
  "nbformat": 4,
  "nbformat_minor": 0,
  "metadata": {
    "colab": {
      "provenance": [],
      "collapsed_sections": [
        "cAkvqKAV6D4E",
        "6kNW5OmUQgdP",
        "wgN9ReGeGbvW",
        "4T5_W4SpUYk9",
        "0UgUUyF_WzUK",
        "SdWGzB5Z7YOy",
        "mPB0lcSxAU7y",
        "yeZ-ipKhNtO7",
        "2U-bGFW5-K-Q"
      ],
      "include_colab_link": true
    },
    "kernelspec": {
      "name": "python3",
      "display_name": "Python 3"
    },
    "language_info": {
      "name": "python"
    }
  },
  "cells": [
    {
      "cell_type": "markdown",
      "metadata": {
        "id": "view-in-github",
        "colab_type": "text"
      },
      "source": [
        "<a href=\"https://colab.research.google.com/github/jbeans0312/MNIST/blob/main/Bean_MNIST_Classifiers.ipynb\" target=\"_parent\"><img src=\"https://colab.research.google.com/assets/colab-badge.svg\" alt=\"Open In Colab\"/></a>"
      ]
    },
    {
      "cell_type": "markdown",
      "source": [
        "# **Environment and Data Configuration**"
      ],
      "metadata": {
        "id": "cAkvqKAV6D4E"
      }
    },
    {
      "cell_type": "markdown",
      "source": [
        "### Import libraries and configure device"
      ],
      "metadata": {
        "id": "fsDVEfKEQj8x"
      }
    },
    {
      "cell_type": "code",
      "source": [
        "import torch\n",
        "import torch.nn as nn\n",
        "import torchvision\n",
        "import torchvision.transforms as transforms\n",
        "import matplotlib.pyplot as plt\n",
        "import numpy as np\n",
        "import seaborn as sns\n",
        "import sklearn.metrics\n",
        "from sklearn.metrics import confusion_matrix\n",
        "\n",
        "# if we can run the code on the gpu, do it! otherwise, we run on the cpu (booo)\n",
        "device = torch.device('cuda' if torch.cuda.is_available() else 'cpu')"
      ],
      "metadata": {
        "id": "QJSMj1t1_Ul6"
      },
      "execution_count": 7,
      "outputs": []
    },
    {
      "cell_type": "markdown",
      "source": [
        "### Set our hyper-params\n"
      ],
      "metadata": {
        "id": "ZhwxSevZQiTq"
      }
    },
    {
      "cell_type": "code",
      "source": [
        "input_size = 784 # number of input nodes (each image is 28x28 px)\n",
        "hidden_size = 500 # size of the hidden layer (between i/o)\n",
        "hidden_num = 2 # number of hidden layers (between i/o)\n",
        "num_classes = 10 # number of output labels (we will be taking max prob)\n",
        "num_epochs = 2  # number of epochs, during each epoch we train on all images\n",
        "batch_size = 100 # number of images we train on at a given time\n",
        "learning_rate = 0.001 # used in gradient descent "
      ],
      "metadata": {
        "id": "j2xzQwfV_76C"
      },
      "execution_count": 8,
      "outputs": []
    },
    {
      "cell_type": "markdown",
      "source": [
        "### Import the MNIST data"
      ],
      "metadata": {
        "id": "6kNW5OmUQgdP"
      }
    },
    {
      "cell_type": "code",
      "source": [
        "train_dataset = torchvision.datasets.MNIST(root='./data', \n",
        "                                           train=True, \n",
        "                                           transform=transforms.ToTensor(),  \n",
        "                                           download=True)\n",
        "\n",
        "test_dataset = torchvision.datasets.MNIST(root='./data', \n",
        "                                          train=False, \n",
        "                                          transform=transforms.ToTensor())"
      ],
      "metadata": {
        "id": "EGxk0wOdGeZk",
        "colab": {
          "base_uri": "https://localhost:8080/"
        },
        "outputId": "bdc84a76-b4bc-4796-8220-aff602eb205f"
      },
      "execution_count": 9,
      "outputs": [
        {
          "output_type": "stream",
          "name": "stdout",
          "text": [
            "Downloading http://yann.lecun.com/exdb/mnist/train-images-idx3-ubyte.gz\n",
            "Downloading http://yann.lecun.com/exdb/mnist/train-images-idx3-ubyte.gz to ./data/MNIST/raw/train-images-idx3-ubyte.gz\n"
          ]
        },
        {
          "output_type": "stream",
          "name": "stderr",
          "text": [
            "100%|██████████| 9912422/9912422 [00:00<00:00, 81617663.36it/s]\n"
          ]
        },
        {
          "output_type": "stream",
          "name": "stdout",
          "text": [
            "Extracting ./data/MNIST/raw/train-images-idx3-ubyte.gz to ./data/MNIST/raw\n",
            "\n",
            "Downloading http://yann.lecun.com/exdb/mnist/train-labels-idx1-ubyte.gz\n",
            "Downloading http://yann.lecun.com/exdb/mnist/train-labels-idx1-ubyte.gz to ./data/MNIST/raw/train-labels-idx1-ubyte.gz\n"
          ]
        },
        {
          "output_type": "stream",
          "name": "stderr",
          "text": [
            "100%|██████████| 28881/28881 [00:00<00:00, 71508674.04it/s]"
          ]
        },
        {
          "output_type": "stream",
          "name": "stdout",
          "text": [
            "Extracting ./data/MNIST/raw/train-labels-idx1-ubyte.gz to ./data/MNIST/raw\n",
            "\n",
            "Downloading http://yann.lecun.com/exdb/mnist/t10k-images-idx3-ubyte.gz\n"
          ]
        },
        {
          "output_type": "stream",
          "name": "stderr",
          "text": [
            "\n"
          ]
        },
        {
          "output_type": "stream",
          "name": "stdout",
          "text": [
            "Downloading http://yann.lecun.com/exdb/mnist/t10k-images-idx3-ubyte.gz to ./data/MNIST/raw/t10k-images-idx3-ubyte.gz\n"
          ]
        },
        {
          "output_type": "stream",
          "name": "stderr",
          "text": [
            "100%|██████████| 1648877/1648877 [00:00<00:00, 21121224.16it/s]"
          ]
        },
        {
          "output_type": "stream",
          "name": "stdout",
          "text": [
            "Extracting ./data/MNIST/raw/t10k-images-idx3-ubyte.gz to ./data/MNIST/raw\n",
            "\n",
            "Downloading http://yann.lecun.com/exdb/mnist/t10k-labels-idx1-ubyte.gz\n"
          ]
        },
        {
          "output_type": "stream",
          "name": "stderr",
          "text": [
            "\n"
          ]
        },
        {
          "output_type": "stream",
          "name": "stdout",
          "text": [
            "Downloading http://yann.lecun.com/exdb/mnist/t10k-labels-idx1-ubyte.gz to ./data/MNIST/raw/t10k-labels-idx1-ubyte.gz\n"
          ]
        },
        {
          "output_type": "stream",
          "name": "stderr",
          "text": [
            "100%|██████████| 4542/4542 [00:00<00:00, 14918190.11it/s]"
          ]
        },
        {
          "output_type": "stream",
          "name": "stdout",
          "text": [
            "Extracting ./data/MNIST/raw/t10k-labels-idx1-ubyte.gz to ./data/MNIST/raw\n",
            "\n"
          ]
        },
        {
          "output_type": "stream",
          "name": "stderr",
          "text": [
            "\n"
          ]
        }
      ]
    },
    {
      "cell_type": "markdown",
      "source": [
        "### Load the MNIST data"
      ],
      "metadata": {
        "id": "YIvN2jIpQcdt"
      }
    },
    {
      "cell_type": "code",
      "source": [
        "# we utilize the batch size we defined and we opt to shuffle the data\n",
        "train_loader = torch.utils.data.DataLoader(dataset=train_dataset, \n",
        "                                           batch_size=batch_size, \n",
        "                                           shuffle=True)\n",
        "\n",
        "test_loader = torch.utils.data.DataLoader(dataset=test_dataset, \n",
        "                                          batch_size=batch_size, \n",
        "                                          shuffle=False) "
      ],
      "metadata": {
        "id": "zqElr0ThHJHV"
      },
      "execution_count": 10,
      "outputs": []
    },
    {
      "cell_type": "markdown",
      "source": [
        "### Visualizing Dataset\n"
      ],
      "metadata": {
        "id": "pv7wyVVPJcKA"
      }
    },
    {
      "cell_type": "markdown",
      "source": [
        "The data is a series of 60,000 28x28 px images, these are some examples\n",
        "- label (top)\n",
        "- image (bottom)"
      ],
      "metadata": {
        "id": "gH_kS69O7VwC"
      }
    },
    {
      "cell_type": "code",
      "metadata": {
        "colab": {
          "base_uri": "https://localhost:8080/",
          "height": 1000
        },
        "id": "ycAsxmrG0ala",
        "outputId": "6afe6de9-8617-46ab-bc06-f9be4c9e257d"
      },
      "source": [
        "for i in range(5):\n",
        "  example_i = train_loader.dataset[i][0].reshape(28,28)\n",
        "  plt.imshow(example_i)\n",
        "  print(train_loader.dataset[i][1])\n",
        "  plt.show()"
      ],
      "execution_count": 11,
      "outputs": [
        {
          "output_type": "stream",
          "name": "stdout",
          "text": [
            "5\n"
          ]
        },
        {
          "output_type": "display_data",
          "data": {
            "text/plain": [
              "<Figure size 640x480 with 1 Axes>"
            ],
            "image/png": "[encoded data removed]"
          },
          "metadata": {}
        },
        {
          "output_type": "stream",
          "name": "stdout",
          "text": [
            "0\n"
          ]
        },
        {
          "output_type": "display_data",
          "data": {
            "text/plain": [
              "<Figure size 640x480 with 1 Axes>"
            ],
            "image/png": "[encoded data removed]"
          },
          "metadata": {}
        },
        {
          "output_type": "stream",
          "name": "stdout",
          "text": [
            "4\n"
          ]
        },
        {
          "output_type": "display_data",
          "data": {
            "text/plain": [
              "<Figure size 640x480 with 1 Axes>"
            ],
            "image/png": "[encoded data removed]"
          },
          "metadata": {}
        },
        {
          "output_type": "stream",
          "name": "stdout",
          "text": [
            "1\n"
          ]
        },
        {
          "output_type": "display_data",
          "data": {
            "text/plain": [
              "<Figure size 640x480 with 1 Axes>"
            ],
            "image/png": "[encoded data removed]"
          },
          "metadata": {}
        },
        {
          "output_type": "stream",
          "name": "stdout",
          "text": [
            "9\n"
          ]
        },
        {
          "output_type": "display_data",
          "data": {
            "text/plain": [
              "<Figure size 640x480 with 1 Axes>"
            ],
            "image/png": "[encoded data removed]"
          },
          "metadata": {}
        }
      ]
    },
    {
      "cell_type": "markdown",
      "source": [
        "# **Metrics**\n",
        "\n",
        "\n"
      ],
      "metadata": {
        "id": "wgN9ReGeGbvW"
      }
    },
    {
      "cell_type": "markdown",
      "source": [
        "### Accuracy evaluation"
      ],
      "metadata": {
        "id": "4T5_W4SpUYk9"
      }
    },
    {
      "cell_type": "code",
      "source": [
        "def acc_eval(preds, labels):\n",
        "  return torch.tensor(torch.sum(preds == labels).item() / len(preds))"
      ],
      "metadata": {
        "id": "ylayYxjYVUie"
      },
      "execution_count": 12,
      "outputs": []
    },
    {
      "cell_type": "markdown",
      "source": [
        "### Displaying the confusion matrix"
      ],
      "metadata": {
        "id": "0UgUUyF_WzUK"
      }
    },
    {
      "cell_type": "code",
      "source": [
        "\"\"\"\n",
        "The confusion matrix displays the spectrum of predictions across each class,\n",
        "which predictions were truly/falsly positive (this is a 7), and which ones\n",
        "were truly/falsly negative (this is a number other than 7)\n",
        "\"\"\"\n",
        "\n",
        "def plot_cm(preds, labels):\n",
        "  plt.figure(figsize=(10,6))\n",
        "  cm = confusion_matrix(labels, preds)\n",
        "  fx = sns.heatmap(cm, annot=True,\n",
        "                   fmt=\".2f\", cmap=\"GnBu\")\n",
        "  fx.set_title('Confusion Matrix\\n')\n",
        "  fx.set_xlabel('\\n Predicted Values\\n')\n",
        "  fx.set_ylabel('Actual Values\\n')\n",
        "  l = ['0','1','2','3','4','5','6','7','8','9']\n",
        "  fx.xaxis.set_ticklabels(l)\n",
        "  fx.yaxis.set_ticklabels(l)\n",
        "  plt.show()\n"
      ],
      "metadata": {
        "id": "SMmPCDG5W_9n"
      },
      "execution_count": 24,
      "outputs": []
    },
    {
      "cell_type": "markdown",
      "source": [
        "### Finding TP, FP, TN, and FN"
      ],
      "metadata": {
        "id": "SdWGzB5Z7YOy"
      }
    },
    {
      "cell_type": "code",
      "source": [
        "# True positive: Predicted to be a number n, is actually that number n\n",
        "# False positive: Predicted to be a number n, is actually NOT that number n\n",
        "# True negative: Predicted to NOT be a number n, is actually NOT that number n\n",
        "# False negative: Predicted to NOT be a number n, is actually that number n\n",
        "def get_confusion_vals(preds, labels):\n",
        "  cm = confusion_matrix(labels, preds)\n",
        "\n",
        "  true_pos = np.diag(cm) # sums the diagonal of the cm\n",
        "  false_pos = cm.sum(axis=0) - true_pos # cm.sum(axis=0) sums the cm rows\n",
        "  false_neg = cm.sum(axis=1) - true_pos # cm.sum(axis=1) sums the cm cols\n",
        "\n",
        "  true_neg = cm.sum() - (false_pos + false_neg + true_pos)\n",
        "\n",
        "  return true_pos, false_pos, true_neg, false_neg"
      ],
      "metadata": {
        "id": "vHtYBB_s70ah"
      },
      "execution_count": 36,
      "outputs": []
    },
    {
      "cell_type": "markdown",
      "source": [
        "### Calculating recall, specificity, precision, and F1 score"
      ],
      "metadata": {
        "id": "mPB0lcSxAU7y"
      }
    },
    {
      "cell_type": "code",
      "source": [
        "\"\"\"\n",
        "Each metric is in its own function in case it needs to be called later without\n",
        "the use of the get_metrics function. It also helped me to seperate the formulas\n",
        "visually. However you could totally do this without the extra functions.\n",
        "\"\"\"\n",
        "\n",
        "# Recall, or \"true positive rate\"\n",
        "def get_recall(true_pos, false_neg):\n",
        "  return true_pos / (true_pos + false_neg)\n",
        "\n",
        "# Specificity, or \"true negative rate\"\n",
        "def get_specificity(true_neg, false_pos):\n",
        "  return true_neg / (true_neg + false_pos)\n",
        "\n",
        "# Precision, or \"positive predictive rate\"\n",
        "def get_precision(true_pos, false_pos):\n",
        "  return true_pos / (true_pos + false_pos)\n",
        "\n",
        "# F1 Score, measures a model's accuracy by combining precision and recall scores\n",
        "def get_f1(precision, recall):\n",
        "  return (2 * precision * recall) / (precision + recall)\n",
        "\n",
        "# Calls other metric evaluation functions\n",
        "def get_metrics(true_pos, false_pos, true_neg, false_neg):\n",
        "  r = get_recall(true_pos, false_neg)\n",
        "  s = get_specificity(true_neg, false_pos)\n",
        "  p = get_precision(true_pos, false_pos)\n",
        "  f1 = get_f1(p,r)\n",
        "\n",
        "  return r, s, p, f1"
      ],
      "metadata": {
        "id": "5uztmXglAgZo"
      },
      "execution_count": 15,
      "outputs": []
    },
    {
      "cell_type": "markdown",
      "source": [
        "### Printing metrics"
      ],
      "metadata": {
        "id": "yeZ-ipKhNtO7"
      }
    },
    {
      "cell_type": "code",
      "source": [
        "def show_metrics(preds, labels):\n",
        "  acc = acc_eval(preds, labels)\n",
        "  plot_cm(preds, labels)\n",
        "  tp, fp, tn, fn = get_confusion_vals(preds, labels)\n",
        "  recall, specif, precis, f1 = get_metrics(tp, fp, tn, fn)\n",
        "  print('\\n=====Conf. Matrix======')\n",
        "  print(f'True positives: {tp}')\n",
        "  print(f'False positives: {fp}')\n",
        "  print(f'True negatives: {tn}')\n",
        "  print(f'False negatives: {fn}')\n",
        "  print('\\n=====Eval. Metrics=====')\n",
        "  print(f'Accuracy: {acc.item()*100:.4f}%') \n",
        "  print('-------------')\n",
        "  print(f'Class Specific Recall:\\n\\n{recall}')\n",
        "  print(f'\\nAverage Recall: {np.mean(recall)}')\n",
        "  print('-------------')\n",
        "  print(f'Class Specific Specificity:\\n\\n{specif}')\n",
        "  print(f'\\nAverage Specificity: {np.mean(specif)}')\n",
        "  print('-------------')\n",
        "  print(f'Class Specific Precision:\\n\\n{precis}')\n",
        "  print(f'\\nAverage Precison: {np.mean(precis)}')\n",
        "  print('-------------')\n",
        "  print(f'Class Specific F1 Score:\\n\\n{f1}')\n",
        "  print(f'\\nAverage F1 Score: {np.mean(f1)}')"
      ],
      "metadata": {
        "id": "k1Obl5MnNvTx"
      },
      "execution_count": 45,
      "outputs": []
    },
    {
      "cell_type": "markdown",
      "source": [
        "# **Feed Forward NN**"
      ],
      "metadata": {
        "id": "2U-bGFW5-K-Q"
      }
    },
    {
      "cell_type": "markdown",
      "source": [
        "### Create NeuralNet class utilizing Torch NN module"
      ],
      "metadata": {
        "id": "7EJJLjBgQyRF"
      }
    },
    {
      "cell_type": "code",
      "source": [
        "# fully connected neural network with one hidden layer\n",
        "\n",
        "# implement functionality for finetuning hidden_size and hidden_layer_num\n",
        "# hidden_size = number of nodes per layer\n",
        "# hidden_num = number of layers in the ****hidden zone*****\n",
        "\n",
        "class NeuralNet(nn.Module):\n",
        "    def __init__(self, input_size, hidden_size, num_classes, hidden_num):\n",
        "        \"\"\"Python note: we use super().__init__() to inherit all \n",
        "        values initialized in the parent (super) class. In this case\n",
        "        there are probably a bunch of variables predefined in the Torch\n",
        "        NN class that we need to access, but don't want to mess with.\"\"\"\n",
        "        super(NeuralNet, self).__init__() \n",
        "        \"\"\"We set the rest of the attributes to OUR hyper-params that we \n",
        "        defined in [3]\"\"\"\n",
        "        # here we init ReLU\n",
        "        self.relu = nn.ReLU() # ReLU acivation function from torch\n",
        "        self.input_size = input_size # here we specify the input size\n",
        "        self.hidden_num = hidden_num # here we specify the num of hidden layers\n",
        "       \n",
        "        # Create our layers\n",
        "        \n",
        "        self.input_layer = nn.Linear(input_size, hidden_size) # first layer\n",
        "        \n",
        "        self.hidden_layers = nn.ModuleList() # list for remaining hidden layers\n",
        "        \n",
        "        for i in range(0, hidden_num): # create remaining layers\n",
        "          self.hidden_layers.append(nn.Linear(hidden_size, hidden_size))\n",
        "        \n",
        "        self.output_layer = nn.Linear(hidden_size, num_classes) # output layer\n",
        "    \n",
        "    \"\"\"Here we define our feed forward method, we won't be using softmax at\n",
        "    the moment, but we will be utilizing it later. \n",
        "    \n",
        "    Torch note: Every nn.Module subclass implements the operations in the \n",
        "    forward method on the data.\"\"\"\n",
        "    def forward(self, x):\n",
        "        # Utilize hidden layers and apply activation (ReLU)\n",
        "        out = self.relu(self.input_layer(x)) # input layer\n",
        "\n",
        "        for i in range(self.hidden_num): # hidden layers\n",
        "          out = self.relu(self.hidden_layers[i](out))\n",
        "\n",
        "        out = self.output_layer(out) # output layer\n",
        "        return out\n",
        "\n",
        "model = NeuralNet(input_size, hidden_size, num_classes, hidden_num).to(device)"
      ],
      "metadata": {
        "id": "VBP1qxLfH1Q-"
      },
      "execution_count": 19,
      "outputs": []
    },
    {
      "cell_type": "markdown",
      "source": [
        "### Function to calculate total parameters"
      ],
      "metadata": {
        "id": "LG13lp92VlaR"
      }
    },
    {
      "cell_type": "code",
      "source": [
        "def count_parameters(model):\n",
        "  # p.numel() sums all the combinations of parameters\n",
        "  # p.numel([500,500]) yields 500^2 params \n",
        "    return sum(p.numel() for p in model.parameters())"
      ],
      "metadata": {
        "id": "g8ljO1G3VoZu"
      },
      "execution_count": 20,
      "outputs": []
    },
    {
      "cell_type": "markdown",
      "source": [
        "### Initialize loss function (criterion) and optimizer"
      ],
      "metadata": {
        "id": "esvqnyjn2CwX"
      }
    },
    {
      "cell_type": "code",
      "source": [
        "\"\"\"\n",
        "Here we select Cross Entropy Loss (CEL) as our loss function. We choose CEl as \n",
        "it is well suited for multi-class classification problems, and produces models\n",
        "that make predictions with high confidence. \n",
        "\n",
        "Note: we could also try implementing Negative Log Likelihood Loss (NLL), as it \n",
        "is also well suited for mcc problems.\n",
        "\"\"\"\n",
        "criterion = nn.CrossEntropyLoss() # softmax is built in\n",
        "\"\"\"\n",
        "Adam is a pytorch method for implementing a stochastic optimization algorithm.\n",
        "Adam falls under the umbrella of gradient descent algorithms, and is effecient\n",
        "for working with large batches of data (like MNIST)--or I guess MNIST isn't that\n",
        "large in the scheme of large things :o\n",
        "\"\"\"\n",
        "optimizer = torch.optim.Adam(model.parameters(), lr=learning_rate)"
      ],
      "metadata": {
        "id": "59LBUziF2FZ9"
      },
      "execution_count": 21,
      "outputs": []
    },
    {
      "cell_type": "markdown",
      "source": [
        "### Create training loop\n"
      ],
      "metadata": {
        "id": "u1qlkhkb7zfn"
      }
    },
    {
      "cell_type": "code",
      "source": [
        "n_total_steps = len(train_loader) # get the total number of training instances\n",
        "\n",
        "\"\"\"\n",
        "Here we utilize a nested for loop since we need to iterate over epochs, and \n",
        "train in batches inside of those epochs.\n",
        "\"\"\"\n",
        "for epoch in range(num_epochs): \n",
        "  for i, (images, labels) in enumerate(train_loader):\n",
        "    \"\"\"\n",
        "    We need to reshape the training data since it comes packed in a tuple \n",
        "    containing a matrix of pixel values and a target value, we want it to be a \n",
        "    1D so we can feed the data into our net\n",
        "    \"\"\"\n",
        "    images = images.reshape(-1, 28*28).to(device) # reshape the data\n",
        "    labels = labels.to(device) # upload the labels to the device \n",
        "    \"\"\"\n",
        "    Here we pass our image data arr[input_size] through the model and calculate\n",
        "    the loss function.\n",
        "    \"\"\"\n",
        "    outputs = model(images) # run the input data through our model\n",
        "    loss = criterion(outputs, labels) # run the loss function (CLE)\n",
        "    \"\"\"\n",
        "    Now that we have the output from our loss function, we preform stochastic\n",
        "    (one at a time) gradient descent optimization using Adam. This updates our\n",
        "    weights after every training instance.\n",
        "    \"\"\"\n",
        "    optimizer.zero_grad() # initializes the gradient tensor to zero \n",
        "    loss.backward() # back-prop and compute the gradient\n",
        "    optimizer.step() # preform a single optimization step \n",
        "    \"\"\"\n",
        "    To track our runtime progress we will print the loss function after every \n",
        "    100th step and show our total steps.\n",
        "    \"\"\"\n",
        "    if (i+1) % 100 == 0:\n",
        "      print(f'Epoch[{epoch+1}/{num_epochs}], Step[{i+1}/{n_total_steps}], Loss: {loss.item():.4f}')"
      ],
      "metadata": {
        "id": "ldyKfSFp8GHV",
        "colab": {
          "base_uri": "https://localhost:8080/"
        },
        "outputId": "12e9f673-417a-4875-efb2-b763e34bb793"
      },
      "execution_count": 22,
      "outputs": [
        {
          "output_type": "stream",
          "name": "stdout",
          "text": [
            "Epoch[1/2], Step[100/600], Loss: 0.2126\n",
            "Epoch[1/2], Step[200/600], Loss: 0.2616\n",
            "Epoch[1/2], Step[300/600], Loss: 0.1125\n",
            "Epoch[1/2], Step[400/600], Loss: 0.0895\n",
            "Epoch[1/2], Step[500/600], Loss: 0.1584\n",
            "Epoch[1/2], Step[600/600], Loss: 0.1073\n",
            "Epoch[2/2], Step[100/600], Loss: 0.1088\n",
            "Epoch[2/2], Step[200/600], Loss: 0.1943\n",
            "Epoch[2/2], Step[300/600], Loss: 0.1149\n",
            "Epoch[2/2], Step[400/600], Loss: 0.0311\n",
            "Epoch[2/2], Step[500/600], Loss: 0.1102\n",
            "Epoch[2/2], Step[600/600], Loss: 0.1254\n"
          ]
        }
      ]
    },
    {
      "cell_type": "markdown",
      "source": [
        "### Evaluate metrics"
      ],
      "metadata": {
        "id": "ZEjhIBjxVYqK"
      }
    },
    {
      "cell_type": "code",
      "source": [
        "# Print the metrics for our Feed Forward model\n",
        "with torch.no_grad(): # ensure that we do not update the weights on accident\n",
        "  preds = torch.max(outputs, dim=1)[1] # gets the predictions generated by NN\n",
        "  show_metrics(preds, labels) # calls the show_metrics in the Metrics block\n"
      ],
      "metadata": {
        "colab": {
          "base_uri": "https://localhost:8080/",
          "height": 1000
        },
        "id": "tUvZk1U8Vcje",
        "outputId": "9cac2776-92cb-4362-cae3-2cbe1e7d6a86"
      },
      "execution_count": 44,
      "outputs": [
        {
          "output_type": "display_data",
          "data": {
            "text/plain": [
              "<Figure size 1000x600 with 2 Axes>"
            ],
            "image/png": "[encoded data removed]"
          },
          "metadata": {}
        },
        {
          "output_type": "stream",
          "name": "stdout",
          "text": [
            "=====Conf. Matrix======\n",
            "True positives: [ 7  9  9  7  4  4 13 21 14  8]\n",
            "False positives: [1 1 0 0 0 1 0 0 1 0]\n",
            "True negatives: [92 89 90 93 96 93 87 79 85 92]\n",
            "False negatives: [0 1 1 0 0 2 0 0 0 0]\n",
            "\n",
            "=====Eval. Metrics=====\n",
            "Accuracy: 96.0000%\n",
            "-------------\n",
            "Class Specific Recall:\n",
            "\n",
            "[1.         0.9        0.9        1.         1.         0.66666667\n",
            " 1.         1.         1.         1.        ]\n",
            "\n",
            "Average Recall: 0.9466666666666667\n",
            "-------------\n",
            "Class Specific Specificity:\n",
            "\n",
            "[0.98924731 0.98888889 1.         1.         1.         0.9893617\n",
            " 1.         1.         0.98837209 1.        ]\n",
            "\n",
            "Average Specificity: 0.9955869995867761\n",
            "-------------\n",
            "Class Specific Precision:\n",
            "\n",
            "[0.875      0.9        1.         1.         1.         0.8\n",
            " 1.         1.         0.93333333 1.        ]\n",
            "\n",
            "Average Precison: 0.9508333333333333\n",
            "-------------\n",
            "Class Specific F1 Score:\n",
            "\n",
            "[0.93333333 0.9        0.94736842 1.         1.         0.72727273\n",
            " 1.         1.         0.96551724 1.        ]\n",
            "\n",
            "Average F1 Score: 0.9473491723038002\n"
          ]
        }
      ]
    }
  ]
}